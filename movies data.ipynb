{
 "cells": [
  {
   "cell_type": "code",
   "execution_count": 37,
   "id": "1a4f7c89-a45b-4bbf-80a9-6f821cdfd1bf",
   "metadata": {},
   "outputs": [
    {
     "name": "stdout",
     "output_type": "stream",
     "text": [
      "Data saved to imdb_calendar.csv\n"
     ]
    }
   ],
   "source": [
    "import pandas as pd\n",
    "import requests\n",
    "from bs4 import BeautifulSoup\n",
    "\n",
    "# Set the URL and headers\n",
    "headers = {\n",
    "    'User-Agent': 'Mozilla/5.0 (Windows NT 6.3; Win64; x64) AppleWebKit/537.36 (KHTML, like Gecko) Chrome/80.0.3987.162 Safari/537.36'\n",
    "}\n",
    "url = \"https://www.imdb.com/calendar/?ref_=login\"\n",
    "\n",
    "# Send the GET request\n",
    "response = requests.get(url, headers=headers)\n",
    "\n",
    "# Check if the request was successful\n",
    "if response.status_code == 200:\n",
    "    webpage = response.text\n",
    "    # Parse the HTML content using BeautifulSoup\n",
    "    soup = BeautifulSoup(webpage, \"lxml\")\n",
    "    \n",
    "    # Find all divs with the specified class\n",
    "    elements = soup.find_all(\"div\", class_=\"ipc-title ipc-title--base ipc-title--title ipc-title--on-textPrimary\")\n",
    "    elements_1 = soup.find_all(\"a\", class_=\"ipc-metadata-list-summary-item__t\")\n",
    "    list_items_1 = soup.find_all(\"ul\", class_=\"ipc-inline-list ipc-inline-list--show-dividers ipc-inline-list--no-wrap ipc-inline-list--inline ipc-metadata-list-summary-item__tl base\")\n",
    "    list_items_2 = soup.find_all(\"ul\", class_=\"ipc-inline-list ipc-inline-list--show-dividers ipc-inline-list--no-wrap ipc-inline-list--inline ipc-metadata-list-summary-item__stl base\")\n",
    "    \n",
    "    # Initialize lists\n",
    "    dates = []\n",
    "    names = []\n",
    "    descriptions_1 = []\n",
    "    descriptions_2 = []\n",
    "\n",
    "    # Extract dates\n",
    "    for element in elements:\n",
    "        dates.append(element.text.strip())\n",
    "\n",
    "    # Extract names\n",
    "    for element in elements_1:\n",
    "        names.append(element.text.strip())\n",
    "\n",
    "    # Extract first set of descriptions\n",
    "    for ul in list_items_1:\n",
    "        description = \" \".join(li.text.strip() for li in ul.find_all(\"li\", class_=\"ipc-inline-list__item\"))\n",
    "        descriptions_1.append(description)\n",
    "\n",
    "    # Extract second set of descriptions\n",
    "    for ul in list_items_2:\n",
    "        description = \" \".join(li.text.strip() for li in ul.find_all(\"li\", class_=\"ipc-inline-list__item\"))\n",
    "        descriptions_2.append(description)\n",
    "\n",
    "    # Determine the length of the shortest list\n",
    "    min_length = min(len(dates), len(names), len(descriptions_1), len(descriptions_2))\n",
    "\n",
    "    # Truncate lists to the length of the shortest list\n",
    "    dates = dates[:min_length]\n",
    "    names = names[:min_length]\n",
    "    descriptions_1 = descriptions_1[:min_length]\n",
    "    descriptions_2 = descriptions_2[:min_length]\n",
    "\n",
    "    # Create a DataFrame\n",
    "    data = pd.DataFrame({\n",
    "        'Date': dates,\n",
    "        'Name': names,\n",
    "        'Description_1': descriptions_1,\n",
    "        'Description_2': descriptions_2\n",
    "    })\n",
    "    \n",
    "    # Save the DataFrame to a CSV file\n",
    "    data.to_csv('imdb_calendar.csv', index=False)\n",
    "    \n",
    "    print(\"Data saved to imdb_calendar.csv\")\n",
    "    \n",
    "else:\n",
    "    print(f\"Failed to retrieve the webpage. Status code: {response.status_code}\")\n"
   ]
  },
  {
   "cell_type": "code",
   "execution_count": null,
   "id": "42781aa7-b8c6-4c8f-9411-9c807d769ab5",
   "metadata": {},
   "outputs": [],
   "source": []
  }
 ],
 "metadata": {
  "kernelspec": {
   "display_name": "Python 3 (ipykernel)",
   "language": "python",
   "name": "python3"
  },
  "language_info": {
   "codemirror_mode": {
    "name": "ipython",
    "version": 3
   },
   "file_extension": ".py",
   "mimetype": "text/x-python",
   "name": "python",
   "nbconvert_exporter": "python",
   "pygments_lexer": "ipython3",
   "version": "3.11.7"
  }
 },
 "nbformat": 4,
 "nbformat_minor": 5
}
